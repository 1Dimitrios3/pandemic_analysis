{
 "cells": [
  {
   "cell_type": "markdown",
   "id": "928786e2",
   "metadata": {},
   "source": [
    "# Analyzing Coronovirus incidents across the globe - Data Science Portfolio Project"
   ]
  },
  {
   "cell_type": "raw",
   "id": "f1ed7dbb",
   "metadata": {},
   "source": [
    "This project aims to utilize Python for an in-depth exploration and analysis of coronavirus incidents worldwide during the pandemic.\n",
    "\n",
    "1. Which countries were most affected by the coronavirus?\n",
    "2. What are the ratios of each country's population to coronavirus deaths?\n",
    "3. What was the trend of coronavirus cases in my country, Greece?"
   ]
  },
  {
   "cell_type": "markdown",
   "id": "79a65612",
   "metadata": {},
   "source": [
    "# Data import and sanitization"
   ]
  },
  {
   "cell_type": "markdown",
   "id": "29818e61",
   "metadata": {},
   "source": [
    "### Import libraries "
   ]
  },
  {
   "cell_type": "code",
   "execution_count": 21,
   "id": "05556a8b",
   "metadata": {},
   "outputs": [],
   "source": [
    "# Import libraries\n",
    "import pandas as pd"
   ]
  },
  {
   "cell_type": "markdown",
   "id": "1fa1a348",
   "metadata": {},
   "source": [
    "## Load and Inspect Datasets"
   ]
  },
  {
   "cell_type": "markdown",
   "id": "dba95ad9",
   "metadata": {},
   "source": [
    "We will corelate and analyze data between two csv files:\n",
    "\n",
    "1) coronavirus_report.csv\n",
    "2) population_by_country.csv"
   ]
  },
  {
   "cell_type": "code",
   "execution_count": 22,
   "id": "5b53a328",
   "metadata": {},
   "outputs": [
    {
     "name": "stdout",
     "output_type": "stream",
     "text": [
      "<class 'pandas.core.frame.DataFrame'>\n",
      "RangeIndex: 248346 entries, 0 to 248345\n",
      "Data columns (total 10 columns):\n",
      " #   Column           Non-Null Count   Dtype  \n",
      "---  ------           --------------   -----  \n",
      " 0   date             248346 non-null  object \n",
      " 1   location         248346 non-null  object \n",
      " 2   new_cases        248075 non-null  float64\n",
      " 3   new_deaths       228508 non-null  float64\n",
      " 4   total_cases      248337 non-null  float64\n",
      " 5   total_deaths     228592 non-null  float64\n",
      " 6   weekly_cases     246871 non-null  float64\n",
      " 7   weekly_deaths    227322 non-null  float64\n",
      " 8   biweekly_cases   245118 non-null  float64\n",
      " 9   biweekly_deaths  225553 non-null  float64\n",
      "dtypes: float64(8), object(2)\n",
      "memory usage: 18.9+ MB\n",
      "None\n"
     ]
    },
    {
     "data": {
      "text/html": [
       "<div>\n",
       "<style scoped>\n",
       "    .dataframe tbody tr th:only-of-type {\n",
       "        vertical-align: middle;\n",
       "    }\n",
       "\n",
       "    .dataframe tbody tr th {\n",
       "        vertical-align: top;\n",
       "    }\n",
       "\n",
       "    .dataframe thead th {\n",
       "        text-align: right;\n",
       "    }\n",
       "</style>\n",
       "<table border=\"1\" class=\"dataframe\">\n",
       "  <thead>\n",
       "    <tr style=\"text-align: right;\">\n",
       "      <th></th>\n",
       "      <th>date</th>\n",
       "      <th>location</th>\n",
       "      <th>new_cases</th>\n",
       "      <th>new_deaths</th>\n",
       "      <th>total_cases</th>\n",
       "      <th>total_deaths</th>\n",
       "      <th>weekly_cases</th>\n",
       "      <th>weekly_deaths</th>\n",
       "      <th>biweekly_cases</th>\n",
       "      <th>biweekly_deaths</th>\n",
       "    </tr>\n",
       "  </thead>\n",
       "  <tbody>\n",
       "    <tr>\n",
       "      <th>0</th>\n",
       "      <td>2020-02-24</td>\n",
       "      <td>Afghanistan</td>\n",
       "      <td>5.0</td>\n",
       "      <td>NaN</td>\n",
       "      <td>5.0</td>\n",
       "      <td>NaN</td>\n",
       "      <td>NaN</td>\n",
       "      <td>NaN</td>\n",
       "      <td>NaN</td>\n",
       "      <td>NaN</td>\n",
       "    </tr>\n",
       "    <tr>\n",
       "      <th>1</th>\n",
       "      <td>2020-02-25</td>\n",
       "      <td>Afghanistan</td>\n",
       "      <td>0.0</td>\n",
       "      <td>NaN</td>\n",
       "      <td>5.0</td>\n",
       "      <td>NaN</td>\n",
       "      <td>NaN</td>\n",
       "      <td>NaN</td>\n",
       "      <td>NaN</td>\n",
       "      <td>NaN</td>\n",
       "    </tr>\n",
       "    <tr>\n",
       "      <th>2</th>\n",
       "      <td>2020-02-26</td>\n",
       "      <td>Afghanistan</td>\n",
       "      <td>0.0</td>\n",
       "      <td>NaN</td>\n",
       "      <td>5.0</td>\n",
       "      <td>NaN</td>\n",
       "      <td>NaN</td>\n",
       "      <td>NaN</td>\n",
       "      <td>NaN</td>\n",
       "      <td>NaN</td>\n",
       "    </tr>\n",
       "    <tr>\n",
       "      <th>3</th>\n",
       "      <td>2020-02-27</td>\n",
       "      <td>Afghanistan</td>\n",
       "      <td>0.0</td>\n",
       "      <td>NaN</td>\n",
       "      <td>5.0</td>\n",
       "      <td>NaN</td>\n",
       "      <td>NaN</td>\n",
       "      <td>NaN</td>\n",
       "      <td>NaN</td>\n",
       "      <td>NaN</td>\n",
       "    </tr>\n",
       "    <tr>\n",
       "      <th>4</th>\n",
       "      <td>2020-02-28</td>\n",
       "      <td>Afghanistan</td>\n",
       "      <td>0.0</td>\n",
       "      <td>NaN</td>\n",
       "      <td>5.0</td>\n",
       "      <td>NaN</td>\n",
       "      <td>NaN</td>\n",
       "      <td>NaN</td>\n",
       "      <td>NaN</td>\n",
       "      <td>NaN</td>\n",
       "    </tr>\n",
       "  </tbody>\n",
       "</table>\n",
       "</div>"
      ],
      "text/plain": [
       "         date     location  new_cases  new_deaths  total_cases  total_deaths  \\\n",
       "0  2020-02-24  Afghanistan        5.0         NaN          5.0           NaN   \n",
       "1  2020-02-25  Afghanistan        0.0         NaN          5.0           NaN   \n",
       "2  2020-02-26  Afghanistan        0.0         NaN          5.0           NaN   \n",
       "3  2020-02-27  Afghanistan        0.0         NaN          5.0           NaN   \n",
       "4  2020-02-28  Afghanistan        0.0         NaN          5.0           NaN   \n",
       "\n",
       "   weekly_cases  weekly_deaths  biweekly_cases  biweekly_deaths  \n",
       "0           NaN            NaN             NaN              NaN  \n",
       "1           NaN            NaN             NaN              NaN  \n",
       "2           NaN            NaN             NaN              NaN  \n",
       "3           NaN            NaN             NaN              NaN  \n",
       "4           NaN            NaN             NaN              NaN  "
      ]
     },
     "execution_count": 22,
     "metadata": {},
     "output_type": "execute_result"
    }
   ],
   "source": [
    "# Load coronovirus report dataset\n",
    "\n",
    "incidents = pd.read_csv('coronavirus_report.csv')\n",
    "print(incidents.info())\n",
    "incidents.head()"
   ]
  },
  {
   "cell_type": "markdown",
   "id": "81cc7698",
   "metadata": {},
   "source": [
    "Some initial observations:"
   ]
  },
  {
   "cell_type": "markdown",
   "id": "7da3da47",
   "metadata": {},
   "source": [
    "1. During the coronavirus outbreak, we recorded a total of 248,346 cases and deaths.\n",
    "2. However, it appears that many columns contain a significant number of missing values."
   ]
  },
  {
   "cell_type": "code",
   "execution_count": 3,
   "id": "717bd7ed",
   "metadata": {},
   "outputs": [
    {
     "name": "stdout",
     "output_type": "stream",
     "text": [
      "<class 'pandas.core.frame.DataFrame'>\n",
      "RangeIndex: 16400 entries, 0 to 16399\n",
      "Data columns (total 4 columns):\n",
      " #   Column        Non-Null Count  Dtype  \n",
      "---  ------        --------------  -----  \n",
      " 0   country_code  16400 non-null  object \n",
      " 1   country_name  16400 non-null  object \n",
      " 2   year          16400 non-null  int64  \n",
      " 3   value         16400 non-null  float64\n",
      "dtypes: float64(1), int64(1), object(2)\n",
      "memory usage: 512.6+ KB\n",
      "None\n"
     ]
    },
    {
     "data": {
      "text/html": [
       "<div>\n",
       "<style scoped>\n",
       "    .dataframe tbody tr th:only-of-type {\n",
       "        vertical-align: middle;\n",
       "    }\n",
       "\n",
       "    .dataframe tbody tr th {\n",
       "        vertical-align: top;\n",
       "    }\n",
       "\n",
       "    .dataframe thead th {\n",
       "        text-align: right;\n",
       "    }\n",
       "</style>\n",
       "<table border=\"1\" class=\"dataframe\">\n",
       "  <thead>\n",
       "    <tr style=\"text-align: right;\">\n",
       "      <th></th>\n",
       "      <th>country_code</th>\n",
       "      <th>country_name</th>\n",
       "      <th>year</th>\n",
       "      <th>value</th>\n",
       "    </tr>\n",
       "  </thead>\n",
       "  <tbody>\n",
       "    <tr>\n",
       "      <th>0</th>\n",
       "      <td>ABW</td>\n",
       "      <td>Aruba</td>\n",
       "      <td>1960</td>\n",
       "      <td>54608.0</td>\n",
       "    </tr>\n",
       "    <tr>\n",
       "      <th>1</th>\n",
       "      <td>ABW</td>\n",
       "      <td>Aruba</td>\n",
       "      <td>1961</td>\n",
       "      <td>55811.0</td>\n",
       "    </tr>\n",
       "    <tr>\n",
       "      <th>2</th>\n",
       "      <td>ABW</td>\n",
       "      <td>Aruba</td>\n",
       "      <td>1962</td>\n",
       "      <td>56682.0</td>\n",
       "    </tr>\n",
       "    <tr>\n",
       "      <th>3</th>\n",
       "      <td>ABW</td>\n",
       "      <td>Aruba</td>\n",
       "      <td>1963</td>\n",
       "      <td>57475.0</td>\n",
       "    </tr>\n",
       "    <tr>\n",
       "      <th>4</th>\n",
       "      <td>ABW</td>\n",
       "      <td>Aruba</td>\n",
       "      <td>1964</td>\n",
       "      <td>58178.0</td>\n",
       "    </tr>\n",
       "  </tbody>\n",
       "</table>\n",
       "</div>"
      ],
      "text/plain": [
       "  country_code country_name  year    value\n",
       "0          ABW        Aruba  1960  54608.0\n",
       "1          ABW        Aruba  1961  55811.0\n",
       "2          ABW        Aruba  1962  56682.0\n",
       "3          ABW        Aruba  1963  57475.0\n",
       "4          ABW        Aruba  1964  58178.0"
      ]
     },
     "execution_count": 3,
     "metadata": {},
     "output_type": "execute_result"
    }
   ],
   "source": [
    "# Load population by country dataset\n",
    "\n",
    "population = pd.read_csv('population_by_country.csv')\n",
    "print(population.info())\n",
    "population.head()"
   ]
  },
  {
   "cell_type": "markdown",
   "id": "0100b451",
   "metadata": {},
   "source": [
    "Some initial observations:"
   ]
  },
  {
   "cell_type": "markdown",
   "id": "40f16481",
   "metadata": {},
   "source": [
    "1. We have 16400 entries\n",
    "\n",
    "2. It appears there are no missing values in any of the columns\n",
    "\n",
    "3. The column names and data types look correct"
   ]
  },
  {
   "cell_type": "markdown",
   "id": "e7133994",
   "metadata": {},
   "source": [
    "## Data Cleaning + Preparation "
   ]
  },
  {
   "cell_type": "markdown",
   "id": "61c0c235",
   "metadata": {},
   "source": [
    "Before we can merge incidents and population into a single DataFrame, we'll need to clean the column names and row values in both DataFrames."
   ]
  },
  {
   "cell_type": "markdown",
   "id": "bd2698ec",
   "metadata": {},
   "source": [
    "We want to make sure that all column names are lower case and have no hidden whitespace. We also want to make sure that there is no hidden whitespace in any of the text data, since we will be merging on those columns."
   ]
  },
  {
   "cell_type": "markdown",
   "id": "ef508f7a",
   "metadata": {},
   "source": [
    "Let's save some time by creating a function that can be applied to all DataFrames in our analysis."
   ]
  },
  {
   "cell_type": "code",
   "execution_count": 4,
   "id": "08a7891f",
   "metadata": {},
   "outputs": [],
   "source": [
    "def clean_df_text(df):\n",
    "    # clean column names\n",
    "    df.columns = df.columns.str.lower()\n",
    "    df.columns = df.columns.str.strip()\n",
    "\n",
    "    # clean row values of object columns\n",
    "    for column in df.columns:\n",
    "        if df[column].dtype == 'object':\n",
    "            df[column] = df[column].str.title()\n",
    "            df[column] = df[column].str.strip()\n",
    "\n",
    "    return df"
   ]
  },
  {
   "cell_type": "code",
   "execution_count": 5,
   "id": "a0120575",
   "metadata": {},
   "outputs": [
    {
     "data": {
      "text/html": [
       "<div>\n",
       "<style scoped>\n",
       "    .dataframe tbody tr th:only-of-type {\n",
       "        vertical-align: middle;\n",
       "    }\n",
       "\n",
       "    .dataframe tbody tr th {\n",
       "        vertical-align: top;\n",
       "    }\n",
       "\n",
       "    .dataframe thead th {\n",
       "        text-align: right;\n",
       "    }\n",
       "</style>\n",
       "<table border=\"1\" class=\"dataframe\">\n",
       "  <thead>\n",
       "    <tr style=\"text-align: right;\">\n",
       "      <th></th>\n",
       "      <th>date</th>\n",
       "      <th>location</th>\n",
       "      <th>new_cases</th>\n",
       "      <th>new_deaths</th>\n",
       "      <th>total_cases</th>\n",
       "      <th>total_deaths</th>\n",
       "      <th>weekly_cases</th>\n",
       "      <th>weekly_deaths</th>\n",
       "      <th>biweekly_cases</th>\n",
       "      <th>biweekly_deaths</th>\n",
       "    </tr>\n",
       "  </thead>\n",
       "  <tbody>\n",
       "    <tr>\n",
       "      <th>0</th>\n",
       "      <td>2020-02-24</td>\n",
       "      <td>Afghanistan</td>\n",
       "      <td>5.0</td>\n",
       "      <td>NaN</td>\n",
       "      <td>5.0</td>\n",
       "      <td>NaN</td>\n",
       "      <td>NaN</td>\n",
       "      <td>NaN</td>\n",
       "      <td>NaN</td>\n",
       "      <td>NaN</td>\n",
       "    </tr>\n",
       "    <tr>\n",
       "      <th>1</th>\n",
       "      <td>2020-02-25</td>\n",
       "      <td>Afghanistan</td>\n",
       "      <td>0.0</td>\n",
       "      <td>NaN</td>\n",
       "      <td>5.0</td>\n",
       "      <td>NaN</td>\n",
       "      <td>NaN</td>\n",
       "      <td>NaN</td>\n",
       "      <td>NaN</td>\n",
       "      <td>NaN</td>\n",
       "    </tr>\n",
       "    <tr>\n",
       "      <th>2</th>\n",
       "      <td>2020-02-26</td>\n",
       "      <td>Afghanistan</td>\n",
       "      <td>0.0</td>\n",
       "      <td>NaN</td>\n",
       "      <td>5.0</td>\n",
       "      <td>NaN</td>\n",
       "      <td>NaN</td>\n",
       "      <td>NaN</td>\n",
       "      <td>NaN</td>\n",
       "      <td>NaN</td>\n",
       "    </tr>\n",
       "    <tr>\n",
       "      <th>3</th>\n",
       "      <td>2020-02-27</td>\n",
       "      <td>Afghanistan</td>\n",
       "      <td>0.0</td>\n",
       "      <td>NaN</td>\n",
       "      <td>5.0</td>\n",
       "      <td>NaN</td>\n",
       "      <td>NaN</td>\n",
       "      <td>NaN</td>\n",
       "      <td>NaN</td>\n",
       "      <td>NaN</td>\n",
       "    </tr>\n",
       "    <tr>\n",
       "      <th>4</th>\n",
       "      <td>2020-02-28</td>\n",
       "      <td>Afghanistan</td>\n",
       "      <td>0.0</td>\n",
       "      <td>NaN</td>\n",
       "      <td>5.0</td>\n",
       "      <td>NaN</td>\n",
       "      <td>NaN</td>\n",
       "      <td>NaN</td>\n",
       "      <td>NaN</td>\n",
       "      <td>NaN</td>\n",
       "    </tr>\n",
       "  </tbody>\n",
       "</table>\n",
       "</div>"
      ],
      "text/plain": [
       "         date     location  new_cases  new_deaths  total_cases  total_deaths  \\\n",
       "0  2020-02-24  Afghanistan        5.0         NaN          5.0           NaN   \n",
       "1  2020-02-25  Afghanistan        0.0         NaN          5.0           NaN   \n",
       "2  2020-02-26  Afghanistan        0.0         NaN          5.0           NaN   \n",
       "3  2020-02-27  Afghanistan        0.0         NaN          5.0           NaN   \n",
       "4  2020-02-28  Afghanistan        0.0         NaN          5.0           NaN   \n",
       "\n",
       "   weekly_cases  weekly_deaths  biweekly_cases  biweekly_deaths  \n",
       "0           NaN            NaN             NaN              NaN  \n",
       "1           NaN            NaN             NaN              NaN  \n",
       "2           NaN            NaN             NaN              NaN  \n",
       "3           NaN            NaN             NaN              NaN  \n",
       "4           NaN            NaN             NaN              NaN  "
      ]
     },
     "execution_count": 5,
     "metadata": {},
     "output_type": "execute_result"
    }
   ],
   "source": [
    "# Clean incidents\n",
    "clean_incidents = clean_df_text(incidents)\n",
    "clean_incidents.head()"
   ]
  },
  {
   "cell_type": "code",
   "execution_count": 6,
   "id": "c6951664",
   "metadata": {},
   "outputs": [
    {
     "data": {
      "text/html": [
       "<div>\n",
       "<style scoped>\n",
       "    .dataframe tbody tr th:only-of-type {\n",
       "        vertical-align: middle;\n",
       "    }\n",
       "\n",
       "    .dataframe tbody tr th {\n",
       "        vertical-align: top;\n",
       "    }\n",
       "\n",
       "    .dataframe thead th {\n",
       "        text-align: right;\n",
       "    }\n",
       "</style>\n",
       "<table border=\"1\" class=\"dataframe\">\n",
       "  <thead>\n",
       "    <tr style=\"text-align: right;\">\n",
       "      <th></th>\n",
       "      <th>country_code</th>\n",
       "      <th>country_name</th>\n",
       "      <th>year</th>\n",
       "      <th>value</th>\n",
       "    </tr>\n",
       "  </thead>\n",
       "  <tbody>\n",
       "    <tr>\n",
       "      <th>0</th>\n",
       "      <td>Abw</td>\n",
       "      <td>Aruba</td>\n",
       "      <td>1960</td>\n",
       "      <td>54608.0</td>\n",
       "    </tr>\n",
       "    <tr>\n",
       "      <th>1</th>\n",
       "      <td>Abw</td>\n",
       "      <td>Aruba</td>\n",
       "      <td>1961</td>\n",
       "      <td>55811.0</td>\n",
       "    </tr>\n",
       "    <tr>\n",
       "      <th>2</th>\n",
       "      <td>Abw</td>\n",
       "      <td>Aruba</td>\n",
       "      <td>1962</td>\n",
       "      <td>56682.0</td>\n",
       "    </tr>\n",
       "    <tr>\n",
       "      <th>3</th>\n",
       "      <td>Abw</td>\n",
       "      <td>Aruba</td>\n",
       "      <td>1963</td>\n",
       "      <td>57475.0</td>\n",
       "    </tr>\n",
       "    <tr>\n",
       "      <th>4</th>\n",
       "      <td>Abw</td>\n",
       "      <td>Aruba</td>\n",
       "      <td>1964</td>\n",
       "      <td>58178.0</td>\n",
       "    </tr>\n",
       "  </tbody>\n",
       "</table>\n",
       "</div>"
      ],
      "text/plain": [
       "  country_code country_name  year    value\n",
       "0          Abw        Aruba  1960  54608.0\n",
       "1          Abw        Aruba  1961  55811.0\n",
       "2          Abw        Aruba  1962  56682.0\n",
       "3          Abw        Aruba  1963  57475.0\n",
       "4          Abw        Aruba  1964  58178.0"
      ]
     },
     "execution_count": 6,
     "metadata": {},
     "output_type": "execute_result"
    }
   ],
   "source": [
    "# Clean population\n",
    "clean_population = clean_df_text(population)\n",
    "clean_population.head()"
   ]
  },
  {
   "cell_type": "markdown",
   "id": "cf677851",
   "metadata": {},
   "source": [
    "Now we want to uppercase all country three letter codes."
   ]
  },
  {
   "cell_type": "code",
   "execution_count": 41,
   "id": "a177bf39",
   "metadata": {},
   "outputs": [
    {
     "data": {
      "text/html": [
       "<div>\n",
       "<style scoped>\n",
       "    .dataframe tbody tr th:only-of-type {\n",
       "        vertical-align: middle;\n",
       "    }\n",
       "\n",
       "    .dataframe tbody tr th {\n",
       "        vertical-align: top;\n",
       "    }\n",
       "\n",
       "    .dataframe thead th {\n",
       "        text-align: right;\n",
       "    }\n",
       "</style>\n",
       "<table border=\"1\" class=\"dataframe\">\n",
       "  <thead>\n",
       "    <tr style=\"text-align: right;\">\n",
       "      <th></th>\n",
       "      <th>country_code</th>\n",
       "      <th>country_name</th>\n",
       "      <th>year</th>\n",
       "      <th>value</th>\n",
       "    </tr>\n",
       "  </thead>\n",
       "  <tbody>\n",
       "    <tr>\n",
       "      <th>0</th>\n",
       "      <td>ABW</td>\n",
       "      <td>Aruba</td>\n",
       "      <td>1960</td>\n",
       "      <td>54608.0</td>\n",
       "    </tr>\n",
       "    <tr>\n",
       "      <th>1</th>\n",
       "      <td>ABW</td>\n",
       "      <td>Aruba</td>\n",
       "      <td>1961</td>\n",
       "      <td>55811.0</td>\n",
       "    </tr>\n",
       "    <tr>\n",
       "      <th>2</th>\n",
       "      <td>ABW</td>\n",
       "      <td>Aruba</td>\n",
       "      <td>1962</td>\n",
       "      <td>56682.0</td>\n",
       "    </tr>\n",
       "    <tr>\n",
       "      <th>3</th>\n",
       "      <td>ABW</td>\n",
       "      <td>Aruba</td>\n",
       "      <td>1963</td>\n",
       "      <td>57475.0</td>\n",
       "    </tr>\n",
       "    <tr>\n",
       "      <th>4</th>\n",
       "      <td>ABW</td>\n",
       "      <td>Aruba</td>\n",
       "      <td>1964</td>\n",
       "      <td>58178.0</td>\n",
       "    </tr>\n",
       "  </tbody>\n",
       "</table>\n",
       "</div>"
      ],
      "text/plain": [
       "  country_code country_name  year    value\n",
       "0          ABW        Aruba  1960  54608.0\n",
       "1          ABW        Aruba  1961  55811.0\n",
       "2          ABW        Aruba  1962  56682.0\n",
       "3          ABW        Aruba  1963  57475.0\n",
       "4          ABW        Aruba  1964  58178.0"
      ]
     },
     "execution_count": 41,
     "metadata": {},
     "output_type": "execute_result"
    }
   ],
   "source": [
    "def uppercase_country_codes(df, column_name):\n",
    "    df[column_name] = df[column_name].str.upper()\n",
    "    return df\n",
    "\n",
    "clean_population = clean_population.copy()\n",
    "clean_population = uppercase_country_codes(clean_population, 'country_code')\n",
    "clean_population.head()"
   ]
  },
  {
   "cell_type": "markdown",
   "id": "e35fa518",
   "metadata": {},
   "source": [
    "Let's rename location row to country_name on clean_incidents dataframe."
   ]
  },
  {
   "cell_type": "code",
   "execution_count": 42,
   "id": "3d74bb55",
   "metadata": {},
   "outputs": [
    {
     "data": {
      "text/html": [
       "<div>\n",
       "<style scoped>\n",
       "    .dataframe tbody tr th:only-of-type {\n",
       "        vertical-align: middle;\n",
       "    }\n",
       "\n",
       "    .dataframe tbody tr th {\n",
       "        vertical-align: top;\n",
       "    }\n",
       "\n",
       "    .dataframe thead th {\n",
       "        text-align: right;\n",
       "    }\n",
       "</style>\n",
       "<table border=\"1\" class=\"dataframe\">\n",
       "  <thead>\n",
       "    <tr style=\"text-align: right;\">\n",
       "      <th></th>\n",
       "      <th>date</th>\n",
       "      <th>country_name</th>\n",
       "      <th>new_cases</th>\n",
       "      <th>new_deaths</th>\n",
       "      <th>total_cases</th>\n",
       "      <th>total_deaths</th>\n",
       "      <th>weekly_cases</th>\n",
       "      <th>weekly_deaths</th>\n",
       "      <th>biweekly_cases</th>\n",
       "      <th>biweekly_deaths</th>\n",
       "    </tr>\n",
       "  </thead>\n",
       "  <tbody>\n",
       "    <tr>\n",
       "      <th>0</th>\n",
       "      <td>2020-02-24</td>\n",
       "      <td>Afghanistan</td>\n",
       "      <td>5.0</td>\n",
       "      <td>NaN</td>\n",
       "      <td>5.0</td>\n",
       "      <td>NaN</td>\n",
       "      <td>NaN</td>\n",
       "      <td>NaN</td>\n",
       "      <td>NaN</td>\n",
       "      <td>NaN</td>\n",
       "    </tr>\n",
       "    <tr>\n",
       "      <th>1</th>\n",
       "      <td>2020-02-25</td>\n",
       "      <td>Afghanistan</td>\n",
       "      <td>0.0</td>\n",
       "      <td>NaN</td>\n",
       "      <td>5.0</td>\n",
       "      <td>NaN</td>\n",
       "      <td>NaN</td>\n",
       "      <td>NaN</td>\n",
       "      <td>NaN</td>\n",
       "      <td>NaN</td>\n",
       "    </tr>\n",
       "    <tr>\n",
       "      <th>2</th>\n",
       "      <td>2020-02-26</td>\n",
       "      <td>Afghanistan</td>\n",
       "      <td>0.0</td>\n",
       "      <td>NaN</td>\n",
       "      <td>5.0</td>\n",
       "      <td>NaN</td>\n",
       "      <td>NaN</td>\n",
       "      <td>NaN</td>\n",
       "      <td>NaN</td>\n",
       "      <td>NaN</td>\n",
       "    </tr>\n",
       "    <tr>\n",
       "      <th>3</th>\n",
       "      <td>2020-02-27</td>\n",
       "      <td>Afghanistan</td>\n",
       "      <td>0.0</td>\n",
       "      <td>NaN</td>\n",
       "      <td>5.0</td>\n",
       "      <td>NaN</td>\n",
       "      <td>NaN</td>\n",
       "      <td>NaN</td>\n",
       "      <td>NaN</td>\n",
       "      <td>NaN</td>\n",
       "    </tr>\n",
       "    <tr>\n",
       "      <th>4</th>\n",
       "      <td>2020-02-28</td>\n",
       "      <td>Afghanistan</td>\n",
       "      <td>0.0</td>\n",
       "      <td>NaN</td>\n",
       "      <td>5.0</td>\n",
       "      <td>NaN</td>\n",
       "      <td>NaN</td>\n",
       "      <td>NaN</td>\n",
       "      <td>NaN</td>\n",
       "      <td>NaN</td>\n",
       "    </tr>\n",
       "  </tbody>\n",
       "</table>\n",
       "</div>"
      ],
      "text/plain": [
       "         date country_name  new_cases  new_deaths  total_cases  total_deaths  \\\n",
       "0  2020-02-24  Afghanistan        5.0         NaN          5.0           NaN   \n",
       "1  2020-02-25  Afghanistan        0.0         NaN          5.0           NaN   \n",
       "2  2020-02-26  Afghanistan        0.0         NaN          5.0           NaN   \n",
       "3  2020-02-27  Afghanistan        0.0         NaN          5.0           NaN   \n",
       "4  2020-02-28  Afghanistan        0.0         NaN          5.0           NaN   \n",
       "\n",
       "   weekly_cases  weekly_deaths  biweekly_cases  biweekly_deaths  \n",
       "0           NaN            NaN             NaN              NaN  \n",
       "1           NaN            NaN             NaN              NaN  \n",
       "2           NaN            NaN             NaN              NaN  \n",
       "3           NaN            NaN             NaN              NaN  \n",
       "4           NaN            NaN             NaN              NaN  "
      ]
     },
     "execution_count": 42,
     "metadata": {},
     "output_type": "execute_result"
    }
   ],
   "source": [
    "column_mapper = {'location':'country_name'}\n",
    "clean_incidents = clean_incidents.rename(mapper=column_mapper, axis=1)\n",
    "clean_incidents.head()"
   ]
  },
  {
   "cell_type": "markdown",
   "id": "4353fd95",
   "metadata": {},
   "source": [
    "Let's filter clean_population table to get the total population per country for 2021."
   ]
  },
  {
   "cell_type": "code",
   "execution_count": 28,
   "id": "46773857",
   "metadata": {},
   "outputs": [
    {
     "name": "stdout",
     "output_type": "stream",
     "text": [
      "      country_code                 country_name  year        value\n",
      "61             ABW                        Aruba  2021     106537.0\n",
      "123            AFE  Africa Eastern And Southern  2021  702976832.0\n",
      "185            AFG                  Afghanistan  2021   40099462.0\n",
      "247            AFW   Africa Western And Central  2021  478185907.0\n",
      "309            AGO                       Angola  2021   34503774.0\n",
      "...            ...                          ...   ...          ...\n",
      "16151          XKX                       Kosovo  2021    1786038.0\n",
      "16213          YEM                  Yemen, Rep.  2021   32981641.0\n",
      "16275          ZAF                 South Africa  2021   59392255.0\n",
      "16337          ZMB                       Zambia  2021   19473125.0\n",
      "16399          ZWE                     Zimbabwe  2021   15993524.0\n",
      "\n",
      "[265 rows x 4 columns]\n"
     ]
    }
   ],
   "source": [
    "population_2021 = clean_population[clean_population['year'] == 2021]\n",
    "print(population_2021)"
   ]
  },
  {
   "cell_type": "markdown",
   "id": "5fa2e2ed",
   "metadata": {},
   "source": [
    "Now let's merge these two tables "
   ]
  },
  {
   "cell_type": "code",
   "execution_count": 29,
   "id": "1f762934",
   "metadata": {},
   "outputs": [
    {
     "name": "stdout",
     "output_type": "stream",
     "text": [
      "         date country_name  new_cases  new_deaths  total_cases  total_deaths  \\\n",
      "0  2020-03-13        Aruba        2.0         NaN          2.0           NaN   \n",
      "1  2020-03-14        Aruba        0.0         NaN          2.0           NaN   \n",
      "2  2020-03-15        Aruba        0.0         NaN          2.0           NaN   \n",
      "3  2020-03-16        Aruba        0.0         NaN          2.0           NaN   \n",
      "4  2020-03-17        Aruba        1.0         NaN          3.0           NaN   \n",
      "\n",
      "   weekly_cases  weekly_deaths  biweekly_cases  biweekly_deaths country_code  \\\n",
      "0           NaN            NaN             NaN              NaN          ABW   \n",
      "1           NaN            NaN             NaN              NaN          ABW   \n",
      "2           NaN            NaN             NaN              NaN          ABW   \n",
      "3           NaN            NaN             NaN              NaN          ABW   \n",
      "4           NaN            NaN             NaN              NaN          ABW   \n",
      "\n",
      "   year     value  \n",
      "0  2021  106537.0  \n",
      "1  2021  106537.0  \n",
      "2  2021  106537.0  \n",
      "3  2021  106537.0  \n",
      "4  2021  106537.0  \n"
     ]
    }
   ],
   "source": [
    "merged_data = pd.merge(left=clean_incidents, right=population_2021, on='country_name', how='right')\n",
    "print(merged_data.head())"
   ]
  },
  {
   "cell_type": "markdown",
   "id": "1079a1df",
   "metadata": {},
   "source": [
    "Now, let's clean up the DataFrame by removing unnecessary columns and renaming the 'value' column to 'population_2021' for better clarity in our analysis."
   ]
  },
  {
   "cell_type": "code",
   "execution_count": 45,
   "id": "9595af34",
   "metadata": {},
   "outputs": [],
   "source": [
    "drop_columns = ['year', 'weekly_cases', 'weekly_deaths', 'biweekly_cases', 'biweekly_deaths']\n",
    "clean_merged_data = merged_data.drop(labels=drop_columns, axis=1)"
   ]
  },
  {
   "cell_type": "code",
   "execution_count": 46,
   "id": "87c3d71d",
   "metadata": {},
   "outputs": [
    {
     "name": "stdout",
     "output_type": "stream",
     "text": [
      "              date country_name  new_cases  new_deaths  total_cases  \\\n",
      "197808  2023-03-09        World   177325.0      1319.0  676467356.0   \n",
      "197807  2023-03-08        World   179384.0      1445.0  676290031.0   \n",
      "197806  2023-03-07        World   130437.0       923.0  676110647.0   \n",
      "197805  2023-03-06        World    63196.0       366.0  675980210.0   \n",
      "197804  2023-03-05        World    59988.0       186.0  675922170.0   \n",
      "...            ...          ...        ...         ...          ...   \n",
      "200856  2020-03-31       Zambia        0.0         NaN         35.0   \n",
      "200857  2020-04-01       Zambia        1.0         NaN         36.0   \n",
      "201930  2020-03-20     Zimbabwe        1.0         NaN          1.0   \n",
      "201931  2020-03-21     Zimbabwe        2.0         NaN          3.0   \n",
      "201932  2020-03-22     Zimbabwe        0.0         NaN          3.0   \n",
      "\n",
      "        total_deaths country_code  population_2021  \n",
      "197808     6881575.0          WLD     7.888409e+09  \n",
      "197807     6880256.0          WLD     7.888409e+09  \n",
      "197806     6878811.0          WLD     7.888409e+09  \n",
      "197805     6877888.0          WLD     7.888409e+09  \n",
      "197804     6877522.0          WLD     7.888409e+09  \n",
      "...              ...          ...              ...  \n",
      "200856           NaN          ZMB     1.947312e+07  \n",
      "200857           NaN          ZMB     1.947312e+07  \n",
      "201930           NaN          ZWE     1.599352e+07  \n",
      "201931           NaN          ZWE     1.599352e+07  \n",
      "201932           NaN          ZWE     1.599352e+07  \n",
      "\n",
      "[203015 rows x 8 columns]\n"
     ]
    }
   ],
   "source": [
    "column_mapper = {'value': 'population_2021'}\n",
    "new_data = clean_merged_data.rename(mapper=column_mapper, axis=1)\n",
    "print(new_data.sort_values(by='total_deaths', ascending=False))"
   ]
  },
  {
   "cell_type": "markdown",
   "id": "f8f7bbc0",
   "metadata": {},
   "source": [
    "We need to clean up some invalid country names and identify which countries were most affected by the coronavirus."
   ]
  },
  {
   "cell_type": "code",
   "execution_count": 47,
   "id": "8a869c2c",
   "metadata": {},
   "outputs": [
    {
     "name": "stdout",
     "output_type": "stream",
     "text": [
      "Most affected by cases:\n",
      "                total_cases  population_2021\n",
      "country_name                                \n",
      "United States   103802702.0     3.318937e+08\n",
      "India            44690738.0     1.407564e+09\n",
      "France           39701767.0     6.774963e+07\n",
      "Germany          38249060.0     8.319608e+07\n",
      "Brazil           37081209.0     2.143262e+08\n",
      "Japan            33320438.0     1.256816e+08\n",
      "Italy            25603510.0     5.910967e+07\n",
      "United Kingdom   24425313.0     6.732657e+07\n",
      "Spain            13770429.0     4.741575e+07\n",
      "Vietnam          11526994.0     9.746803e+07\n",
      "\n",
      "Most affected by deaths:\n",
      "                total_deaths  population_2021\n",
      "country_name                                 \n",
      "United States      1123836.0     3.318937e+08\n",
      "Brazil              699276.0     2.143262e+08\n",
      "India               530779.0     1.407564e+09\n",
      "Mexico              333188.0     1.267051e+08\n",
      "United Kingdom      219948.0     6.732657e+07\n",
      "Peru                219539.0     3.371547e+07\n",
      "Italy               188322.0     5.910967e+07\n",
      "Germany             168935.0     8.319608e+07\n",
      "France              165204.0     6.774963e+07\n",
      "Indonesia           160941.0     2.737532e+08\n"
     ]
    }
   ],
   "source": [
    "# we want to filter out some non valid country names\n",
    "exclude_names = ['World', 'High Income', 'Upper Middle Income', 'Lower Middle Income', 'European Union', 'North America']\n",
    "\n",
    "# Filter out the aggregate names early\n",
    "cases = new_data[~new_data['country_name'].isin(exclude_names)]\n",
    "\n",
    "# Aggregate the data to find the maximum number of total cases and deaths for each country\n",
    "country_impact = cases.groupby('country_name').max()[['total_cases', 'total_deaths', 'population_2021']]\n",
    "\n",
    "# Sort the data to find the countries with the highest number of total cases\n",
    "most_affected_by_cases = country_impact.sort_values(by='total_cases', ascending=False).drop(labels='total_deaths', axis=1)\n",
    "\n",
    "# Sort the data to find the countries with the highest number of total deaths\n",
    "most_affected_by_deaths = country_impact.sort_values(by='total_deaths', ascending=False).drop(labels='total_cases', axis=1)\n",
    "\n",
    "print(\"Most affected by cases:\")\n",
    "print(most_affected_by_cases.head(10))\n",
    "print(\"\\nMost affected by deaths:\")\n",
    "print(most_affected_by_deaths.head(10))"
   ]
  },
  {
   "cell_type": "markdown",
   "id": "15093706",
   "metadata": {},
   "source": [
    "Quick observations:\n",
    "\n",
    "1. The United States was the most affected country in terms of both case numbers and death rates.\n",
    "2. The top three countries most affected by coronavirus cases are the United States, India, and France.\n",
    "3. The top three countries most affected by coronavirus deaths are the United States, Brazil, and India."
   ]
  },
  {
   "cell_type": "markdown",
   "id": "4b13b5b4",
   "metadata": {},
   "source": [
    "## Next, we aim to estimate the ratios of total cases to population and total deaths to population for each country."
   ]
  },
  {
   "cell_type": "markdown",
   "id": "ae83a636",
   "metadata": {},
   "source": [
    "For simplicity, we assume that the 2021 population remains stable throughout the three-year period of the coronavirus pandemic."
   ]
  },
  {
   "cell_type": "code",
   "execution_count": 48,
   "id": "c79df559",
   "metadata": {},
   "outputs": [
    {
     "name": "stdout",
     "output_type": "stream",
     "text": [
      "Most affected by cases ratios:\n",
      "                total_cases  population_2021  cases/population %\n",
      "country_name                                                    \n",
      "United States   103802702.0     3.318937e+08               31.28\n",
      "India            44690738.0     1.407564e+09                3.18\n",
      "France           39701767.0     6.774963e+07               58.60\n",
      "Germany          38249060.0     8.319608e+07               45.97\n",
      "Brazil           37081209.0     2.143262e+08               17.30\n",
      "Japan            33320438.0     1.256816e+08               26.51\n",
      "Italy            25603510.0     5.910967e+07               43.32\n",
      "United Kingdom   24425313.0     6.732657e+07               36.28\n",
      "Spain            13770429.0     4.741575e+07               29.04\n",
      "Vietnam          11526994.0     9.746803e+07               11.83\n",
      "\n",
      "Most affected by deaths ratios:\n",
      "                total_deaths  population_2021  deaths/population %\n",
      "country_name                                                      \n",
      "United States      1123836.0     3.318937e+08                0.339\n",
      "Brazil              699276.0     2.143262e+08                0.326\n",
      "India               530779.0     1.407564e+09                0.038\n",
      "Mexico              333188.0     1.267051e+08                0.263\n",
      "United Kingdom      219948.0     6.732657e+07                0.327\n",
      "Peru                219539.0     3.371547e+07                0.651\n",
      "Italy               188322.0     5.910967e+07                0.319\n",
      "Germany             168935.0     8.319608e+07                0.203\n",
      "France              165204.0     6.774963e+07                0.244\n",
      "Indonesia           160941.0     2.737532e+08                0.059\n"
     ]
    }
   ],
   "source": [
    "most_affected_by_cases['cases/population %'] = round((most_affected_by_cases['total_cases'] / most_affected_by_cases['population_2021']) * 100, 2)\n",
    "\n",
    "# Calculating the percentage of the population affected by total deaths\n",
    "most_affected_by_deaths['deaths/population %'] = round((most_affected_by_deaths['total_deaths'] / most_affected_by_deaths['population_2021']) * 100, 3)\n",
    "\n",
    "# Display the updated DataFrame with the new columns\n",
    "print(\"Most affected by cases ratios:\")\n",
    "print(most_affected_by_cases.head(10))\n",
    "print(\"\\nMost affected by deaths ratios:\")\n",
    "print(most_affected_by_deaths.head(10))"
   ]
  },
  {
   "cell_type": "code",
   "execution_count": 49,
   "id": "32170c07",
   "metadata": {},
   "outputs": [
    {
     "name": "stdout",
     "output_type": "stream",
     "text": [
      "          date country_name  new_cases  new_deaths  total_cases  total_deaths  \\\n",
      "0   2020-03-13        Aruba        2.0         NaN          2.0           NaN   \n",
      "1   2020-03-14        Aruba        0.0         NaN          2.0           NaN   \n",
      "2   2020-03-15        Aruba        0.0         NaN          2.0           NaN   \n",
      "3   2020-03-16        Aruba        0.0         NaN          2.0           NaN   \n",
      "4   2020-03-17        Aruba        1.0         NaN          3.0           NaN   \n",
      "5   2020-03-18        Aruba        1.0         NaN          4.0           NaN   \n",
      "6   2020-03-19        Aruba        0.0         NaN          4.0           NaN   \n",
      "7   2020-03-20        Aruba        1.0         NaN          5.0           NaN   \n",
      "8   2020-03-21        Aruba        0.0         NaN          5.0           NaN   \n",
      "9   2020-03-22        Aruba        4.0         NaN          9.0           NaN   \n",
      "10  2020-03-23        Aruba        0.0         NaN          9.0           NaN   \n",
      "11  2020-03-24        Aruba        3.0         NaN         12.0           NaN   \n",
      "12  2020-03-25        Aruba        5.0         NaN         17.0           NaN   \n",
      "13  2020-03-26        Aruba       11.0         NaN         28.0           NaN   \n",
      "14  2020-03-27        Aruba        5.0         NaN         33.0           NaN   \n",
      "\n",
      "   country_code  population_2021  \n",
      "0           ABW         106537.0  \n",
      "1           ABW         106537.0  \n",
      "2           ABW         106537.0  \n",
      "3           ABW         106537.0  \n",
      "4           ABW         106537.0  \n",
      "5           ABW         106537.0  \n",
      "6           ABW         106537.0  \n",
      "7           ABW         106537.0  \n",
      "8           ABW         106537.0  \n",
      "9           ABW         106537.0  \n",
      "10          ABW         106537.0  \n",
      "11          ABW         106537.0  \n",
      "12          ABW         106537.0  \n",
      "13          ABW         106537.0  \n",
      "14          ABW         106537.0  \n"
     ]
    }
   ],
   "source": [
    "print(cases.head(15))"
   ]
  },
  {
   "cell_type": "markdown",
   "id": "5133a5ca",
   "metadata": {},
   "source": [
    "### Now, we aim to examine the total cases and total deaths per year, along with the fluctuations observed in the most affected countries."
   ]
  },
  {
   "cell_type": "code",
   "execution_count": 50,
   "id": "5d237939",
   "metadata": {},
   "outputs": [
    {
     "name": "stdout",
     "output_type": "stream",
     "text": [
      "Warning: Some 'date' values could not be converted and will be removed.\n",
      "       date                    country_name  new_cases  new_deaths  \\\n",
      "1092    NaT     Africa Eastern And Southern        NaN         NaN   \n",
      "2203    NaT      Africa Western And Central        NaN         NaN   \n",
      "5488    NaT                      Arab World        NaN         NaN   \n",
      "8831    NaT                  American Samoa        NaN         NaN   \n",
      "20968   NaT                    Bahamas, The        NaN         NaN   \n",
      "...     ...                             ...        ...         ...   \n",
      "185559  NaT                         Turkiye        NaN         NaN   \n",
      "193594  NaT  St. Vincent And The Grenadines        NaN         NaN   \n",
      "193595  NaT                   Venezuela, Rb        NaN         NaN   \n",
      "194673  NaT           Virgin Islands (U.S.)        NaN         NaN   \n",
      "199742  NaT                     Yemen, Rep.        NaN         NaN   \n",
      "\n",
      "        total_cases  total_deaths country_code  population_2021  \n",
      "1092            NaN           NaN          AFE      702976832.0  \n",
      "2203            NaN           NaN          AFW      478185907.0  \n",
      "5488            NaN           NaN          ARB      456520777.0  \n",
      "8831            NaN           NaN          ASM          45035.0  \n",
      "20968           NaN           NaN          BHS         407906.0  \n",
      "...             ...           ...          ...              ...  \n",
      "185559          NaN           NaN          TUR       84775404.0  \n",
      "193594          NaN           NaN          VCT         104332.0  \n",
      "193595          NaN           NaN          VEN       28199867.0  \n",
      "194673          NaN           NaN          VIR         105870.0  \n",
      "199742          NaN           NaN          YEM       32981641.0  \n",
      "\n",
      "[77 rows x 8 columns]\n",
      "Most_affected_by_cases_through_years:\n",
      "      country_name  year  total_cases  total_deaths\n",
      "696  United States  2023  103802702.0     1123836.0\n",
      "695  United States  2022  100765333.0     1092764.0\n",
      "694  United States  2021   54907717.0      825468.0\n",
      "311          India  2023   44690738.0      530779.0\n",
      "310          India  2022   44679873.0      530705.0\n",
      "239         France  2023   39701767.0      165204.0\n",
      "238         France  2022   39334073.0      162031.0\n",
      "255        Germany  2023   38249060.0      168935.0\n",
      "254        Germany  2022   37369866.0      161465.0\n",
      "99          Brazil  2023   37081209.0      699276.0\n",
      "98          Brazil  2022   36331281.0      693853.0\n",
      "309          India  2021   34861579.0      481486.0\n",
      "\n",
      "Most_affected_by_deaths_through_years:\n",
      "      country_name  year  total_cases  total_deaths\n",
      "696  United States  2023  103802702.0     1123836.0\n",
      "695  United States  2022  100765333.0     1092764.0\n",
      "694  United States  2021   54907717.0      825468.0\n",
      "99          Brazil  2023   37081209.0      699276.0\n",
      "98          Brazil  2022   36331281.0      693853.0\n",
      "97          Brazil  2021   22291839.0      619334.0\n",
      "311          India  2023   44690738.0      530779.0\n",
      "310          India  2022   44679873.0      530705.0\n",
      "309          India  2021   34861579.0      481486.0\n",
      "693  United States  2020   20219878.0      350604.0\n",
      "442         Mexico  2023    7483444.0      333188.0\n",
      "441         Mexico  2022    7234467.0      331105.0\n"
     ]
    }
   ],
   "source": [
    "cases = cases.copy()\n",
    "\n",
    "# Convert 'date' to datetime\n",
    "cases.loc[:, 'date'] = pd.to_datetime(cases['date'], errors='coerce')\n",
    "\n",
    "# Check for any non-datetime values and remove them\n",
    "if cases['date'].isnull().any():\n",
    "    print(\"Warning: Some 'date' values could not be converted and will be removed.\")\n",
    "    print(cases[cases['date'].isnull()])  # Print the rows with invalid dates for debugging\n",
    "    cases = cases.dropna(subset=['date'])\n",
    "\n",
    "cases.loc[:, 'year'] = cases['date'].apply(lambda x: x.year if pd.notnull(x) else None)\n",
    "\n",
    "# Group by 'country_name' and year extracted from 'date', then aggregate the maximum values\n",
    "result = cases.groupby(['country_name', 'year']).agg({\n",
    "    'total_cases': 'max',\n",
    "    'total_deaths': 'max'\n",
    "}).reset_index()\n",
    "\n",
    "result.rename(columns={'date': 'year'}, inplace=True)\n",
    "\n",
    "most_affected_by_cases_through_years = result.sort_values(by='total_cases', ascending=False)\n",
    "most_affected_by_deaths_through_years = result.sort_values(by='total_deaths', ascending=False)\n",
    "\n",
    "print(\"Most_affected_by_cases_through_years:\")\n",
    "print(most_affected_by_cases_through_years.head(12))\n",
    "print(\"\\nMost_affected_by_deaths_through_years:\")\n",
    "print(most_affected_by_deaths_through_years.head(12))"
   ]
  },
  {
   "cell_type": "markdown",
   "id": "1bc06d67",
   "metadata": {},
   "source": [
    "We observe that the United States was the most affected country in terms of both cases and deaths. Let's now determine the year-to-year percentage increase or decrease in these figures for the United States."
   ]
  },
  {
   "cell_type": "code",
   "execution_count": 36,
   "id": "956c1985",
   "metadata": {},
   "outputs": [
    {
     "name": "stdout",
     "output_type": "stream",
     "text": [
      "Cases percentage change from 2021 to 2022:\n",
      "83.52 % increase\n",
      "\n",
      "Cases percentage change from 2022 to 2023:\n",
      "3.01 % increase\n"
     ]
    }
   ],
   "source": [
    "us2021 = most_affected_by_cases_through_years[\n",
    "    (most_affected_by_cases_through_years['country_name'] == 'United States') & \n",
    "    (most_affected_by_cases_through_years['year'] == 2021)\n",
    "]\n",
    "us2022 = most_affected_by_cases_through_years[\n",
    "    (most_affected_by_cases_through_years['country_name'] == 'United States') & \n",
    "    (most_affected_by_cases_through_years['year'] == 2022)\n",
    "]\n",
    "us2023 = most_affected_by_cases_through_years[\n",
    "    (most_affected_by_cases_through_years['country_name'] == 'United States') & \n",
    "    (most_affected_by_cases_through_years['year'] == 2023)\n",
    "]\n",
    "\n",
    "us_total_cases_2021 = us2021['total_cases'].values[0]\n",
    "us_total_cases_2022 = us2022['total_cases'].values[0]\n",
    "us_total_cases_2023 = us2023['total_cases'].values[0]\n",
    "\n",
    "# Calculate percentage change from 2021 to 2022\n",
    "us_cases_percent_change_2021_2022 = round(((us_total_cases_2022 - us_total_cases_2021) / us_total_cases_2021) * 100, 2)\n",
    "us_cases_percent_change_2022_2023 = round(((us_total_cases_2023 - us_total_cases_2022) / us_total_cases_2022) * 100, 2)\n",
    "\n",
    "print(\"Cases percentage change from 2021 to 2022:\")\n",
    "print(us_cases_percent_change_2021_2022,'% ' 'increase')\n",
    "print(\"\\nCases percentage change from 2022 to 2023:\")\n",
    "print(us_cases_percent_change_2022_2023,'% ' 'increase')"
   ]
  },
  {
   "cell_type": "markdown",
   "id": "976f97b6",
   "metadata": {},
   "source": [
    "Let's now do the same for India which is the second most affected country by cases"
   ]
  },
  {
   "cell_type": "code",
   "execution_count": 51,
   "id": "e89e8898",
   "metadata": {},
   "outputs": [
    {
     "name": "stdout",
     "output_type": "stream",
     "text": [
      "Cases percentage change from 2021 to 2022:\n",
      "28.16 % increase\n",
      "\n",
      "Cases percentage change from 2022 to 2023:\n",
      "0.02 % increase\n"
     ]
    }
   ],
   "source": [
    "india2021 = most_affected_by_cases_through_years[\n",
    "    (most_affected_by_cases_through_years['country_name'] == 'India') & \n",
    "    (most_affected_by_cases_through_years['year'] == 2021)\n",
    "]\n",
    "india2022 = most_affected_by_cases_through_years[\n",
    "    (most_affected_by_cases_through_years['country_name'] == 'India') & \n",
    "    (most_affected_by_cases_through_years['year'] == 2022)\n",
    "]\n",
    "india2023 = most_affected_by_cases_through_years[\n",
    "    (most_affected_by_cases_through_years['country_name'] == 'India') & \n",
    "    (most_affected_by_cases_through_years['year'] == 2023)\n",
    "]\n",
    "\n",
    "india_total_cases_2021 = india2021['total_cases'].values[0]\n",
    "india_total_cases_2022 = india2022['total_cases'].values[0]\n",
    "india_total_cases_2023 = india2023['total_cases'].values[0]\n",
    "\n",
    "# Calculate percentage change from 2021 to 2022\n",
    "india_cases_percent_change_2021_2022 = round(((india_total_cases_2022 - india_total_cases_2021) / india_total_cases_2021) * 100, 2)\n",
    "india_cases_percent_change_2022_2023 = round(((india_total_cases_2023 - india_total_cases_2022) / india_total_cases_2022) * 100, 2)\n",
    "\n",
    "print(\"Cases percentage change from 2021 to 2022:\")\n",
    "print(india_cases_percent_change_2021_2022,'% ' 'increase')\n",
    "print(\"\\nCases percentage change from 2022 to 2023:\")\n",
    "print(india_cases_percent_change_2022_2023,'% ' 'increase')"
   ]
  },
  {
   "cell_type": "markdown",
   "id": "7bff663f",
   "metadata": {},
   "source": [
    "Let's proceed to calculate the percentage increase in deaths for the United States."
   ]
  },
  {
   "cell_type": "code",
   "execution_count": 52,
   "id": "f72f01dd",
   "metadata": {},
   "outputs": [
    {
     "name": "stdout",
     "output_type": "stream",
     "text": [
      "Deaths percentage change from 2021 to 2022:\n",
      "32.38 % increase\n",
      "\n",
      "Deaths percentage change from 2022 to 2023:\n",
      "2.84 % increase\n"
     ]
    }
   ],
   "source": [
    "us2021d = most_affected_by_deaths_through_years[\n",
    "    (most_affected_by_deaths_through_years['country_name'] == 'United States') & \n",
    "    (most_affected_by_deaths_through_years['year'] == 2021)\n",
    "]\n",
    "us2022d = most_affected_by_deaths_through_years[\n",
    "    (most_affected_by_deaths_through_years['country_name'] == 'United States') & \n",
    "    (most_affected_by_deaths_through_years['year'] == 2022)\n",
    "]\n",
    "us2023d = most_affected_by_deaths_through_years[\n",
    "    (most_affected_by_deaths_through_years['country_name'] == 'United States') & \n",
    "    (most_affected_by_deaths_through_years['year'] == 2023)\n",
    "]\n",
    "\n",
    "us_total_deaths_2021 = us2021d['total_deaths'].values[0]\n",
    "us_total_deaths_2022 = us2022d['total_deaths'].values[0]\n",
    "us_total_deaths_2023 = us2023d['total_deaths'].values[0]\n",
    "\n",
    "# Calculate percentage change from 2021 to 2022\n",
    "us_deaths_percent_change_2021_2022 = round(((us_total_deaths_2022 - us_total_deaths_2021) / us_total_deaths_2021) * 100, 2)\n",
    "us_deaths_percent_change_2022_2023 = round(((us_total_deaths_2023 - us_total_deaths_2022) / us_total_deaths_2022) * 100, 2)\n",
    "\n",
    "print(\"Deaths percentage change from 2021 to 2022:\")\n",
    "print(us_deaths_percent_change_2021_2022,'% ' 'increase')\n",
    "print(\"\\nDeaths percentage change from 2022 to 2023:\")\n",
    "print(us_deaths_percent_change_2022_2023,'% ' 'increase')"
   ]
  },
  {
   "cell_type": "markdown",
   "id": "68ffe9f7",
   "metadata": {},
   "source": [
    "Quick observations:\n",
    "\n",
    "1. From 2021 to 2022, there was a substantial increase in both cases and deaths in the most affected countries.\n",
    "2. From 2022 to 2023, the rate of increase dropped significantly.\n",
    "\n"
   ]
  },
  {
   "cell_type": "markdown",
   "id": "b4aad19b",
   "metadata": {},
   "source": [
    "## Now, let's examine the coronavirus statistics for Greece during the pandemic period."
   ]
  },
  {
   "cell_type": "code",
   "execution_count": 53,
   "id": "e7f45b0d",
   "metadata": {},
   "outputs": [
    {
     "name": "stdout",
     "output_type": "stream",
     "text": [
      "\n",
      "Overall rate values for Greece:\n",
      "total_cases         5548487.0\n",
      "total_deaths          34779.0\n",
      "population_2021    10641221.0\n",
      "dtype: float64\n"
     ]
    }
   ],
   "source": [
    "cases = cases.copy()\n",
    "\n",
    "greece_cases = cases[cases['country_name'] == 'Greece']\n",
    "\n",
    "greece_result = greece_cases.groupby('year').agg({\n",
    "    'total_cases': 'max',\n",
    "    'total_deaths': 'max',\n",
    "    'population_2021': 'max' \n",
    "}).reset_index()\n",
    "\n",
    "greece_impact = greece_cases[['total_cases', 'total_deaths', 'population_2021']].max()\n",
    "print(\"\\nOverall rate values for Greece:\")\n",
    "print(greece_impact)"
   ]
  },
  {
   "cell_type": "code",
   "execution_count": 54,
   "id": "e8e4004a",
   "metadata": {},
   "outputs": [
    {
     "name": "stdout",
     "output_type": "stream",
     "text": [
      "\n",
      "Total percent of population affected from coronovirus in Greece:\n",
      "52.14 %\n",
      "\n",
      "Total percent of population died from coronovirus in Greece:\n",
      "0.33 %\n"
     ]
    }
   ],
   "source": [
    "percent_of_population_affected = round(greece_impact['total_cases'] / greece_impact['population_2021'] * 100, 2)\n",
    "print(\"\\nTotal percent of population affected from coronovirus in Greece:\")\n",
    "print(percent_of_population_affected, \"%\")\n",
    "\n",
    "percent_of_population_dead = round(greece_impact['total_deaths'] / greece_impact['population_2021'] * 100, 2)\n",
    "print(\"\\nTotal percent of population died from coronovirus in Greece:\")\n",
    "print(percent_of_population_dead,\"%\")"
   ]
  },
  {
   "cell_type": "markdown",
   "id": "975b01f6",
   "metadata": {},
   "source": [
    "Our analysis of the coronavirus pandemic has revealed several critical insights. The United States was the most affected country in terms of both cases and deaths, exhibiting substantial increases from 2021 to 2022. However, the rate of increase in both cases and deaths significantly dropped from 2022 to 2023.\n",
    "\n",
    "Globally, the top three countries most affected by coronavirus cases were the United States, India, and France, while the United States, Brazil, and India were most affected in terms of deaths. By calculating the ratios of total cases and deaths to population, we gained a clearer understanding of the pandemic's impact on each country.\n",
    "\n",
    "For Greece, the data showed notable trends in cases and deaths over the pandemic period, contributing to our comprehensive understanding of how different regions were impacted.\n",
    "\n",
    "These findings underscore the need for ongoing vigilance and targeted responses to manage future health crises effectively. Future analyses could further refine our conclusions by considering factors such as the quality and strength of healthcare systems, the effectiveness of public health interventions, and the socio-economic impacts of the pandemic."
   ]
  }
 ],
 "metadata": {
  "kernelspec": {
   "display_name": "Python 3 (ipykernel)",
   "language": "python",
   "name": "python3"
  },
  "language_info": {
   "codemirror_mode": {
    "name": "ipython",
    "version": 3
   },
   "file_extension": ".py",
   "mimetype": "text/x-python",
   "name": "python",
   "nbconvert_exporter": "python",
   "pygments_lexer": "ipython3",
   "version": "3.11.7"
  }
 },
 "nbformat": 4,
 "nbformat_minor": 5
}
